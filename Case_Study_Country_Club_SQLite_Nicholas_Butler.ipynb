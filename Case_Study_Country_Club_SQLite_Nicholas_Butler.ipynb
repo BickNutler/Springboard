{
  "nbformat": 4,
  "nbformat_minor": 0,
  "metadata": {
    "colab": {
      "provenance": [],
      "authorship_tag": "ABX9TyNW5KPedow2NqYftpmSv+P4",
      "include_colab_link": true
    },
    "kernelspec": {
      "name": "python3",
      "display_name": "Python 3"
    },
    "language_info": {
      "name": "python"
    }
  },
  "cells": [
    {
      "cell_type": "markdown",
      "metadata": {
        "id": "view-in-github",
        "colab_type": "text"
      },
      "source": [
        "<a href=\"https://colab.research.google.com/github/BickNutler/Springboard/blob/main/Case_Study_Country_Club_SQLite_Nicholas_Butler.ipynb\" target=\"_parent\"><img src=\"https://colab.research.google.com/assets/colab-badge.svg\" alt=\"Open In Colab\"/></a>"
      ]
    },
    {
      "cell_type": "markdown",
      "source": [
        "***NOTE: The code used to complete this assignment was generated through the assistance of ChatGPT.\\***"
      ],
      "metadata": {
        "id": "4lNc2Pj4cYre"
      }
    },
    {
      "cell_type": "code",
      "metadata": {
        "colab": {
          "base_uri": "https://localhost:8080/"
        },
        "id": "241dd16a",
        "outputId": "0074afb2-989c-4518-ad9a-24921a3a1198"
      },
      "source": [
        "import sqlite3\n",
        "\n",
        "class LocalSQLConnection:\n",
        "    def __init__(self, db_name='mydatabase.db'):\n",
        "        self.db_name = db_name\n",
        "        self.conn = None\n",
        "        self.cursor = None\n",
        "\n",
        "    def __enter__(self):\n",
        "        self.conn = sqlite3.connect(self.db_name)\n",
        "        self.cursor = self.conn.cursor()\n",
        "        return self\n",
        "\n",
        "    def __exit__(self, exc_type, exc_val, exc_tb):\n",
        "        if self.conn:\n",
        "            self.conn.commit()\n",
        "            self.conn.close()\n",
        "\n",
        "    def execute_query(self, query, params=()):\n",
        "        if not self.cursor:\n",
        "            raise ConnectionError(\"Database connection not established. Use 'with LocalSQLConnection():' or call 'connect()'.\")\n",
        "        self.cursor.execute(query, params)\n",
        "        return self.cursor\n",
        "\n",
        "    def fetch_all(self, query, params=()):\n",
        "        cursor = self.execute_query(query, params)\n",
        "        return cursor.fetchall()\n",
        "\n",
        "    def fetch_one(self, query, params=()):\n",
        "        cursor = self.execute_query(query, params)\n",
        "        return cursor.fetchone()\n",
        "\n",
        "    def create_table(self, table_name, columns):\n",
        "        # columns should be a dictionary like {'column_name': 'data_type'}\n",
        "        column_definitions = ', '.join([f'{name} {dtype}' for name, dtype in columns.items()])\n",
        "        query = f'CREATE TABLE IF NOT EXISTS {table_name} ({column_definitions})'\n",
        "        self.execute_query(query)\n",
        "\n",
        "    def insert_data(self, table_name, data):\n",
        "        # data should be a dictionary like {'column_name': 'value'}\n",
        "        columns = ', '.join(data.keys())\n",
        "        placeholders = ', '.join(['?'] * len(data))\n",
        "        query = f'INSERT INTO {table_name} ({columns}) VALUES ({placeholders})'\n",
        "        self.execute_query(query, tuple(data.values()))\n",
        "\n",
        "    def update_data(self, table_name, data, condition):\n",
        "        # data should be a dictionary like {'column_name': 'value'}\n",
        "        set_clause = ', '.join([f'{name} = ?' for name in data.keys()])\n",
        "        query = f'UPDATE {table_name} SET {set_clause} WHERE {condition}'\n",
        "        self.execute_query(query, tuple(data.values()))\n",
        "\n",
        "    def delete_data(self, table_name, condition):\n",
        "        query = f'DELETE FROM {table_name} WHERE {condition}'\n",
        "        self.execute_query(query)\n",
        "\n",
        "    def connect(self, db_name=None):\n",
        "        if db_name:\n",
        "            self.db_name = db_name\n",
        "        self.conn = sqlite3.connect(self.db_name)\n",
        "        self.cursor = self.conn.cursor()\n",
        "\n",
        "    def close(self):\n",
        "        if self.conn:\n",
        "            self.conn.commit()\n",
        "            self.conn.close()\n",
        "            self.conn = None\n",
        "            self.cursor = None\n",
        "\n",
        "with LocalSQLConnection('/content/sqlite_db_pythonsqlite.db') as db:\n",
        "    db.execute_query(\"SELECT name FROM sqlite_master WHERE type='table';\")\n",
        "    tables = db.fetch_all(\"SELECT name FROM sqlite_master WHERE type='table';\")\n",
        "    print(\"Tables in the database:\")\n",
        "    for table in tables:\n",
        "        print(table[0])"
      ],
      "execution_count": 6,
      "outputs": [
        {
          "output_type": "stream",
          "name": "stdout",
          "text": [
            "Tables in the database:\n",
            "Bookings\n",
            "Facilities\n",
            "Members\n"
          ]
        }
      ]
    },
    {
      "cell_type": "code",
      "source": [
        "import os\n",
        "\n",
        "db_path = '/content/sqlite_db_pythonsqlite.db'\n",
        "print(\"Database exists:\", os.path.exists(db_path))\n",
        "print(\"File size:\", os.path.getsize(db_path) if os.path.exists(db_path) else \"File not found\")\n"
      ],
      "metadata": {
        "colab": {
          "base_uri": "https://localhost:8080/"
        },
        "id": "y6R0W5w5tECQ",
        "outputId": "80d105c8-fe12-420f-b36e-add7d22eb1f8"
      },
      "execution_count": 7,
      "outputs": [
        {
          "output_type": "stream",
          "name": "stdout",
          "text": [
            "Database exists: True\n",
            "File size: 217088\n"
          ]
        }
      ]
    },
    {
      "cell_type": "markdown",
      "metadata": {
        "id": "0330a100"
      },
      "source": [
        "The data you need is in the \"country_club\" database. This database\n",
        "contains 3 tables:\n",
        "i) the \"Bookings\" table,\n",
        "ii) the \"Facilities\" table, and\n",
        "iii) the \"Members\" table.\n",
        "\n",
        "In this case study, you'll be asked a series of questions. You can\n",
        "solve them using the platform, but for the final deliverable,\n",
        "paste the code for each solution into this script, and upload it\n",
        "to your GitHub.\n",
        "\n",
        "Before starting with the questions, feel free to take your time,\n",
        "exploring the data, and getting acquainted with the 3 tables."
      ]
    },
    {
      "cell_type": "markdown",
      "source": [
        "/* PART 2: SQLite\n",
        "/* We now want you to jump over to a local instance of the database on your machine.\n",
        "\n",
        "Copy and paste the LocalSQLConnection.py script into an empty Jupyter notebook, and run it.\n",
        "\n",
        "Make sure that the SQLFiles folder containing thes files is in your working directory, and\n",
        "that you haven't changed the name of the .db file from 'sqlite\\db\\pythonsqlite'.\n",
        "\n",
        "You should see the output from the initial query 'SELECT * FROM FACILITIES'.\n",
        "\n",
        "Complete the remaining tasks in the Jupyter interface. If you struggle, feel free to go back\n",
        "to the PHPMyAdmin interface as and when you need to.\n",
        "\n",
        "You'll need to paste your query into value of the 'query1' variable and run the code block again to get an output.\n",
        "\n",
        "QUESTIONS:\n"
      ],
      "metadata": {
        "id": "Cqqol4T2ZD6d"
      }
    },
    {
      "cell_type": "markdown",
      "source": [
        "**Q10: Produce a list of facilities with a total revenue less than 1000.\n",
        "The output of facility name and total revenue, sorted by revenue. Remember\n",
        "that there's a different cost for guests and members!**"
      ],
      "metadata": {
        "id": "8BRIFXdJZXIF"
      }
    },
    {
      "cell_type": "code",
      "source": [
        "query = \"\"\"\n",
        "SELECT\n",
        "    f.name AS facility_name,\n",
        "    SUM(\n",
        "        CASE\n",
        "            WHEN b.memid = 0 THEN b.slots * f.guestcost\n",
        "            ELSE b.slots * f.membercost\n",
        "        END\n",
        "    ) AS total_revenue\n",
        "FROM\n",
        "    Bookings b\n",
        "JOIN\n",
        "    Facilities f ON b.facid = f.facid\n",
        "GROUP BY\n",
        "    f.name\n",
        "HAVING\n",
        "    total_revenue < 1000\n",
        "ORDER BY\n",
        "    total_revenue;\n",
        "\"\"\"\n",
        "\n",
        "with LocalSQLConnection('/content/sqlite_db_pythonsqlite.db') as db:\n",
        "    results = db.fetch_all(query)\n",
        "\n",
        "# Convert column headers + results into one list for width calculations\n",
        "headers = [\"Facility Name\", \"Total Revenue\"]\n",
        "rows = [(row[0], f\"{row[1]:.2f}\") for row in results]\n",
        "all_rows = [headers] + rows\n",
        "\n",
        "# Calculate max width of each column\n",
        "col_widths = [max(len(str(r[i])) for r in all_rows) for i in range(len(headers))]\n",
        "\n",
        "# Helper to format a single row\n",
        "def format_row(row):\n",
        "    return \"| \" + \" | \".join(f\"{str(val):<{col_widths[i]}}\" for i, val in enumerate(row)) + \" |\"\n",
        "\n",
        "# Print the table\n",
        "print(format_row(headers))\n",
        "print(\"|-\" + \"-|-\".join(\"-\" * w for w in col_widths) + \"-|\")\n",
        "for row in rows:\n",
        "    print(format_row(row))\n",
        "\n"
      ],
      "metadata": {
        "colab": {
          "base_uri": "https://localhost:8080/"
        },
        "id": "Dg-3vKw-suGX",
        "outputId": "f2e0d0a2-1c16-4eac-ebef-1ab7f288f0d8"
      },
      "execution_count": 8,
      "outputs": [
        {
          "output_type": "stream",
          "name": "stdout",
          "text": [
            "| Facility Name | Total Revenue |\n",
            "|---------------|---------------|\n",
            "| Table Tennis  | 180.00        |\n",
            "| Snooker Table | 240.00        |\n",
            "| Pool Table    | 270.00        |\n"
          ]
        }
      ]
    },
    {
      "cell_type": "markdown",
      "source": [
        "**Q11: Produce a report of members and who recommended them in alphabetic surname,firstname order**"
      ],
      "metadata": {
        "id": "4acE3Ii2ZR4q"
      }
    },
    {
      "cell_type": "code",
      "source": [
        "query = \"\"\"\n",
        "SELECT\n",
        "    m.surname || ', ' || m.firstname AS member_name,\n",
        "    COALESCE(r.surname || ', ' || r.firstname, 'None') AS recommended_by\n",
        "FROM\n",
        "    Members m\n",
        "LEFT JOIN\n",
        "    Members r ON m.recommendedby = r.memid\n",
        "ORDER BY\n",
        "    m.surname,\n",
        "    m.firstname;\n",
        "\"\"\"\n",
        "\n",
        "with LocalSQLConnection('sqlite_db_pythonsqlite.db') as db:\n",
        "    results = db.fetch_all(query)\n",
        "\n",
        "    # Format and print nicely\n",
        "    headers = [\"Member Name\", \"Recommended By\"]\n",
        "    rows = [(row[0], row[1]) for row in results]\n",
        "    all_rows = [headers] + rows\n",
        "    col_widths = [max(len(str(r[i])) for r in all_rows) for i in range(len(headers))]\n",
        "\n",
        "    def format_row(row):\n",
        "        return \"| \" + \" | \".join(f\"{str(val):<{col_widths[i]}}\" for i, val in enumerate(row)) + \" |\"\n",
        "\n",
        "    print(format_row(headers))\n",
        "    print(\"|-\" + \"-|-\".join(\"-\" * w for w in col_widths) + \"-|\")\n",
        "    for row in rows:\n",
        "        print(format_row(row))\n"
      ],
      "metadata": {
        "colab": {
          "base_uri": "https://localhost:8080/"
        },
        "id": "CpfrmG7KbCoa",
        "outputId": "0a4360e3-79de-443b-cf1c-4ae68fbc8503"
      },
      "execution_count": 9,
      "outputs": [
        {
          "output_type": "stream",
          "name": "stdout",
          "text": [
            "| Member Name              | Recommended By     |\n",
            "|--------------------------|--------------------|\n",
            "| Bader, Florence          | Stibbons, Ponder   |\n",
            "| Baker, Anne              | Stibbons, Ponder   |\n",
            "| Baker, Timothy           | Farrell, Jemima    |\n",
            "| Boothe, Tim              | Rownam, Tim        |\n",
            "| Butters, Gerald          | Smith, Darren      |\n",
            "| Coplin, Joan             | Baker, Timothy     |\n",
            "| Crumpet, Erica           | Smith, Tracy       |\n",
            "| Dare, Nancy              | Joplette, Janice   |\n",
            "| Farrell, David           | None               |\n",
            "| Farrell, Jemima          | None               |\n",
            "| GUEST, GUEST             | None               |\n",
            "| Genting, Matthew         | Butters, Gerald    |\n",
            "| Hunt, John               | Purview, Millicent |\n",
            "| Jones, David             | Joplette, Janice   |\n",
            "| Jones, Douglas           | Jones, David       |\n",
            "| Joplette, Janice         | Smith, Darren      |\n",
            "| Mackenzie, Anna          | Smith, Darren      |\n",
            "| Owen, Charles            | Smith, Darren      |\n",
            "| Pinker, David            | Farrell, Jemima    |\n",
            "| Purview, Millicent       | Smith, Tracy       |\n",
            "| Rownam, Tim              | None               |\n",
            "| Rumney, Henrietta        | Genting, Matthew   |\n",
            "| Sarwin, Ramnaresh        | Bader, Florence    |\n",
            "| Smith, Darren            | None               |\n",
            "| Smith, Darren            | None               |\n",
            "| Smith, Jack              | Smith, Darren      |\n",
            "| Smith, Tracy             | None               |\n",
            "| Stibbons, Ponder         | Tracy, Burton      |\n",
            "| Tracy, Burton            | None               |\n",
            "| Tupperware, Hyacinth     | None               |\n",
            "| Worthington-Smyth, Henry | Smith, Tracy       |\n"
          ]
        }
      ]
    },
    {
      "cell_type": "markdown",
      "source": [
        "**Q12: Find the facilities with their usage by member, but not guests**"
      ],
      "metadata": {
        "id": "w36yJPEdZMw_"
      }
    },
    {
      "cell_type": "code",
      "source": [
        "query = \"\"\"\n",
        "SELECT\n",
        "    f.name AS facility_name,\n",
        "    m.firstname || ' ' || m.surname AS member_name,\n",
        "    SUM(b.slots) AS total_usage\n",
        "FROM\n",
        "    Bookings b\n",
        "JOIN\n",
        "    Facilities f ON b.facid = f.facid\n",
        "JOIN\n",
        "    Members m ON b.memid = m.memid\n",
        "WHERE\n",
        "    b.memid <> 0\n",
        "GROUP BY\n",
        "    f.name,\n",
        "    m.firstname,\n",
        "    m.surname\n",
        "ORDER BY\n",
        "    f.name,\n",
        "    m.surname,\n",
        "    m.firstname;\n",
        "\"\"\"\n",
        "\n",
        "with LocalSQLConnection('sqlite_db_pythonsqlite.db') as db:\n",
        "    results = db.fetch_all(query)\n",
        "\n",
        "    # Format for pretty Markdown output\n",
        "    headers = [\"Facility Name\", \"Member Name\", \"Total Usage\"]\n",
        "    rows = [(row[0], row[1], row[2]) for row in results]\n",
        "    all_rows = [headers] + rows\n",
        "    col_widths = [max(len(str(r[i])) for r in all_rows) for i in range(len(headers))]\n",
        "\n",
        "    def format_row(row):\n",
        "        return \"| \" + \" | \".join(f\"{str(val):<{col_widths[i]}}\" for i, val in enumerate(row)) + \" |\"\n",
        "\n",
        "    print(format_row(headers))\n",
        "    print(\"|-\" + \"-|-\".join(\"-\" * w for w in col_widths) + \"-|\")\n",
        "    for row in rows:\n",
        "        print(format_row(row))\n"
      ],
      "metadata": {
        "colab": {
          "base_uri": "https://localhost:8080/"
        },
        "id": "Oped4HHTbUE7",
        "outputId": "bb4db4c4-ec7b-4124-c201-4a06f5d9699b"
      },
      "execution_count": 10,
      "outputs": [
        {
          "output_type": "stream",
          "name": "stdout",
          "text": [
            "| Facility Name   | Member Name             | Total Usage |\n",
            "|-----------------|-------------------------|-------------|\n",
            "| Badminton Court | Florence Bader          | 27          |\n",
            "| Badminton Court | Anne Baker              | 30          |\n",
            "| Badminton Court | Timothy Baker           | 21          |\n",
            "| Badminton Court | Tim Boothe              | 36          |\n",
            "| Badminton Court | Gerald Butters          | 63          |\n",
            "| Badminton Court | Erica Crumpet           | 6           |\n",
            "| Badminton Court | Nancy Dare              | 30          |\n",
            "| Badminton Court | Jemima Farrell          | 21          |\n",
            "| Badminton Court | John Hunt               | 6           |\n",
            "| Badminton Court | David Jones             | 24          |\n",
            "| Badminton Court | Douglas Jones           | 6           |\n",
            "| Badminton Court | Anna Mackenzie          | 96          |\n",
            "| Badminton Court | Charles Owen            | 18          |\n",
            "| Badminton Court | David Pinker            | 21          |\n",
            "| Badminton Court | Millicent Purview       | 6           |\n",
            "| Badminton Court | Tim Rownam              | 12          |\n",
            "| Badminton Court | Ramnaresh Sarwin        | 21          |\n",
            "| Badminton Court | Darren Smith            | 432         |\n",
            "| Badminton Court | Jack Smith              | 36          |\n",
            "| Badminton Court | Tracy Smith             | 102         |\n",
            "| Badminton Court | Ponder Stibbons         | 48          |\n",
            "| Badminton Court | Burton Tracy            | 6           |\n",
            "| Badminton Court | Hyacinth Tupperware     | 3           |\n",
            "| Badminton Court | Henry Worthington-Smyth | 15          |\n",
            "| Massage Room 1  | Anne Baker              | 6           |\n",
            "| Massage Room 1  | Timothy Baker           | 50          |\n",
            "| Massage Room 1  | Tim Boothe              | 76          |\n",
            "| Massage Room 1  | Gerald Butters          | 66          |\n",
            "| Massage Room 1  | Joan Coplin             | 2           |\n",
            "| Massage Room 1  | Erica Crumpet           | 4           |\n",
            "| Massage Room 1  | Nancy Dare              | 38          |\n",
            "| Massage Room 1  | Jemima Farrell          | 68          |\n",
            "| Massage Room 1  | Matthew Genting         | 52          |\n",
            "| Massage Room 1  | John Hunt               | 6           |\n",
            "| Massage Room 1  | David Jones             | 40          |\n",
            "| Massage Room 1  | Janice Joplette         | 24          |\n",
            "| Massage Room 1  | Anna Mackenzie          | 2           |\n",
            "| Massage Room 1  | Charles Owen            | 22          |\n",
            "| Massage Room 1  | David Pinker            | 6           |\n",
            "| Massage Room 1  | Tim Rownam              | 176         |\n",
            "| Massage Room 1  | Ramnaresh Sarwin        | 16          |\n",
            "| Massage Room 1  | Darren Smith            | 58          |\n",
            "| Massage Room 1  | Jack Smith              | 54          |\n",
            "| Massage Room 1  | Tracy Smith             | 12          |\n",
            "| Massage Room 1  | Ponder Stibbons         | 40          |\n",
            "| Massage Room 1  | Burton Tracy            | 62          |\n",
            "| Massage Room 1  | Hyacinth Tupperware     | 2           |\n",
            "| Massage Room 1  | Henry Worthington-Smyth | 2           |\n",
            "| Massage Room 2  | Florence Bader          | 4           |\n",
            "| Massage Room 2  | Anne Baker              | 4           |\n",
            "| Massage Room 2  | Gerald Butters          | 2           |\n",
            "| Massage Room 2  | Joan Coplin             | 4           |\n",
            "| Massage Room 2  | Nancy Dare              | 10          |\n",
            "| Massage Room 2  | Matthew Genting         | 2           |\n",
            "| Massage Room 2  | David Jones             | 8           |\n",
            "| Massage Room 2  | Janice Joplette         | 4           |\n",
            "| Massage Room 2  | Charles Owen            | 4           |\n",
            "| Massage Room 2  | Tim Rownam              | 4           |\n",
            "| Massage Room 2  | Ramnaresh Sarwin        | 6           |\n",
            "| Massage Room 2  | Jack Smith              | 2           |\n",
            "| Pool Table      | Florence Bader          | 23          |\n",
            "| Pool Table      | Anne Baker              | 12          |\n",
            "| Pool Table      | Timothy Baker           | 95          |\n",
            "| Pool Table      | Tim Boothe              | 26          |\n",
            "| Pool Table      | Gerald Butters          | 6           |\n",
            "| Pool Table      | Joan Coplin             | 11          |\n",
            "| Pool Table      | Nancy Dare              | 19          |\n",
            "| Pool Table      | David Farrell           | 25          |\n",
            "| Pool Table      | Jemima Farrell          | 1           |\n",
            "| Pool Table      | Matthew Genting         | 18          |\n",
            "| Pool Table      | David Jones             | 8           |\n",
            "| Pool Table      | Douglas Jones           | 2           |\n",
            "| Pool Table      | Janice Joplette         | 27          |\n",
            "| Pool Table      | Anna Mackenzie          | 83          |\n",
            "| Pool Table      | Charles Owen            | 1           |\n",
            "| Pool Table      | David Pinker            | 9           |\n",
            "| Pool Table      | Millicent Purview       | 5           |\n",
            "| Pool Table      | Tim Rownam              | 282         |\n",
            "| Pool Table      | Henrietta Rumney        | 3           |\n",
            "| Pool Table      | Ramnaresh Sarwin        | 13          |\n",
            "| Pool Table      | Darren Smith            | 28          |\n",
            "| Pool Table      | Jack Smith              | 7           |\n",
            "| Pool Table      | Tracy Smith             | 64          |\n",
            "| Pool Table      | Ponder Stibbons         | 12          |\n",
            "| Pool Table      | Burton Tracy            | 30          |\n",
            "| Pool Table      | Hyacinth Tupperware     | 9           |\n",
            "| Pool Table      | Henry Worthington-Smyth | 37          |\n",
            "| Snooker Table   | Florence Bader          | 66          |\n",
            "| Snooker Table   | Tim Boothe              | 90          |\n",
            "| Snooker Table   | Gerald Butters          | 72          |\n",
            "| Snooker Table   | Joan Coplin             | 20          |\n",
            "| Snooker Table   | Nancy Dare              | 46          |\n",
            "| Snooker Table   | David Farrell           | 2           |\n",
            "| Snooker Table   | Jemima Farrell          | 44          |\n",
            "| Snooker Table   | Matthew Genting         | 2           |\n",
            "| Snooker Table   | David Jones             | 4           |\n",
            "| Snooker Table   | Janice Joplette         | 142         |\n",
            "| Snooker Table   | Anna Mackenzie          | 14          |\n",
            "| Snooker Table   | Charles Owen            | 44          |\n",
            "| Snooker Table   | David Pinker            | 32          |\n",
            "| Snooker Table   | Millicent Purview       | 2           |\n",
            "| Snooker Table   | Henrietta Rumney        | 28          |\n",
            "| Snooker Table   | Ramnaresh Sarwin        | 36          |\n",
            "| Snooker Table   | Darren Smith            | 24          |\n",
            "| Snooker Table   | Jack Smith              | 10          |\n",
            "| Snooker Table   | Tracy Smith             | 90          |\n",
            "| Snooker Table   | Ponder Stibbons         | 40          |\n",
            "| Snooker Table   | Burton Tracy            | 40          |\n",
            "| Snooker Table   | Hyacinth Tupperware     | 12          |\n",
            "| Squash Court    | Florence Bader          | 4           |\n",
            "| Squash Court    | Anne Baker              | 110         |\n",
            "| Squash Court    | Timothy Baker           | 10          |\n",
            "| Squash Court    | Tim Boothe              | 24          |\n",
            "| Squash Court    | Gerald Butters          | 18          |\n",
            "| Squash Court    | Joan Coplin             | 2           |\n",
            "| Squash Court    | David Farrell           | 2           |\n",
            "| Squash Court    | Jemima Farrell          | 16          |\n",
            "| Squash Court    | John Hunt               | 2           |\n",
            "| Squash Court    | David Jones             | 16          |\n",
            "| Squash Court    | Douglas Jones           | 2           |\n",
            "| Squash Court    | Janice Joplette         | 30          |\n",
            "| Squash Court    | Anna Mackenzie          | 4           |\n",
            "| Squash Court    | Charles Owen            | 14          |\n",
            "| Squash Court    | David Pinker            | 6           |\n",
            "| Squash Court    | Millicent Purview       | 2           |\n",
            "| Squash Court    | Henrietta Rumney        | 4           |\n",
            "| Squash Court    | Ramnaresh Sarwin        | 4           |\n",
            "| Squash Court    | Darren Smith            | 30          |\n",
            "| Squash Court    | Jack Smith              | 22          |\n",
            "| Squash Court    | Tracy Smith             | 12          |\n",
            "| Squash Court    | Ponder Stibbons         | 4           |\n",
            "| Squash Court    | Burton Tracy            | 78          |\n",
            "| Squash Court    | Hyacinth Tupperware     | 2           |\n",
            "| Table Tennis    | Florence Bader          | 86          |\n",
            "| Table Tennis    | Anne Baker              | 2           |\n",
            "| Table Tennis    | Timothy Baker           | 48          |\n",
            "| Table Tennis    | Tim Boothe              | 8           |\n",
            "| Table Tennis    | Gerald Butters          | 2           |\n",
            "| Table Tennis    | Joan Coplin             | 46          |\n",
            "| Table Tennis    | Erica Crumpet           | 4           |\n",
            "| Table Tennis    | Nancy Dare              | 10          |\n",
            "| Table Tennis    | Jemima Farrell          | 24          |\n",
            "| Table Tennis    | Matthew Genting         | 54          |\n",
            "| Table Tennis    | John Hunt               | 2           |\n",
            "| Table Tennis    | David Jones             | 22          |\n",
            "| Table Tennis    | Janice Joplette         | 18          |\n",
            "| Table Tennis    | Anna Mackenzie          | 32          |\n",
            "| Table Tennis    | Charles Owen            | 50          |\n",
            "| Table Tennis    | David Pinker            | 34          |\n",
            "| Table Tennis    | Millicent Purview       | 14          |\n",
            "| Table Tennis    | Tim Rownam              | 150         |\n",
            "| Table Tennis    | Ramnaresh Sarwin        | 6           |\n",
            "| Table Tennis    | Darren Smith            | 56          |\n",
            "| Table Tennis    | Jack Smith              | 10          |\n",
            "| Table Tennis    | Tracy Smith             | 56          |\n",
            "| Table Tennis    | Ponder Stibbons         | 6           |\n",
            "| Table Tennis    | Burton Tracy            | 48          |\n",
            "| Table Tennis    | Henry Worthington-Smyth | 6           |\n",
            "| Tennis Court 1  | Florence Bader          | 3           |\n",
            "| Tennis Court 1  | Anne Baker              | 18          |\n",
            "| Tennis Court 1  | Timothy Baker           | 45          |\n",
            "| Tennis Court 1  | Tim Boothe              | 12          |\n",
            "| Tennis Court 1  | Gerald Butters          | 171         |\n",
            "| Tennis Court 1  | Joan Coplin             | 21          |\n",
            "| Tennis Court 1  | Erica Crumpet           | 3           |\n",
            "| Tennis Court 1  | Nancy Dare              | 81          |\n",
            "| Tennis Court 1  | David Farrell           | 18          |\n",
            "| Tennis Court 1  | Jemima Farrell          | 3           |\n",
            "| Tennis Court 1  | Matthew Genting         | 3           |\n",
            "| Tennis Court 1  | John Hunt               | 12          |\n",
            "| Tennis Court 1  | David Jones             | 84          |\n",
            "| Tennis Court 1  | Douglas Jones           | 27          |\n",
            "| Tennis Court 1  | Janice Joplette         | 57          |\n",
            "| Tennis Court 1  | Charles Owen            | 51          |\n",
            "| Tennis Court 1  | David Pinker            | 51          |\n",
            "| Tennis Court 1  | Tim Rownam              | 18          |\n",
            "| Tennis Court 1  | Ramnaresh Sarwin        | 15          |\n",
            "| Tennis Court 1  | Jack Smith              | 75          |\n",
            "| Tennis Court 1  | Tracy Smith             | 93          |\n",
            "| Tennis Court 1  | Ponder Stibbons         | 3           |\n",
            "| Tennis Court 1  | Burton Tracy            | 93          |\n",
            "| Tennis Court 2  | Florence Bader          | 24          |\n",
            "| Tennis Court 2  | Anne Baker              | 114         |\n",
            "| Tennis Court 2  | Timothy Baker           | 21          |\n",
            "| Tennis Court 2  | Tim Boothe              | 168         |\n",
            "| Tennis Court 2  | Gerald Butters          | 9           |\n",
            "| Tennis Court 2  | Nancy Dare              | 33          |\n",
            "| Tennis Court 2  | David Farrell           | 3           |\n",
            "| Tennis Court 2  | Jemima Farrell          | 3           |\n",
            "| Tennis Court 2  | John Hunt               | 12          |\n",
            "| Tennis Court 2  | David Jones             | 99          |\n",
            "| Tennis Court 2  | Janice Joplette         | 24          |\n",
            "| Tennis Court 2  | Charles Owen            | 141         |\n",
            "| Tennis Court 2  | Millicent Purview       | 3           |\n",
            "| Tennis Court 2  | Tim Rownam              | 18          |\n",
            "| Tennis Court 2  | Henrietta Rumney        | 3           |\n",
            "| Tennis Court 2  | Ramnaresh Sarwin        | 36          |\n",
            "| Tennis Court 2  | Darren Smith            | 57          |\n",
            "| Tennis Court 2  | Jack Smith              | 3           |\n",
            "| Tennis Court 2  | Tracy Smith             | 6           |\n",
            "| Tennis Court 2  | Ponder Stibbons         | 96          |\n",
            "| Tennis Court 2  | Burton Tracy            | 9           |\n"
          ]
        }
      ]
    },
    {
      "cell_type": "markdown",
      "source": [
        "**Q13: Find the facilities usage by month, but not guests**"
      ],
      "metadata": {
        "id": "KwPd9IOWUdNO"
      }
    },
    {
      "cell_type": "code",
      "source": [
        "query = \"\"\"\n",
        "SELECT\n",
        "    f.name AS facility_name,\n",
        "    strftime('%Y-%m', b.starttime) AS month,\n",
        "    SUM(b.slots) AS total_usage\n",
        "FROM\n",
        "    Bookings b\n",
        "JOIN\n",
        "    Facilities f ON b.facid = f.facid\n",
        "WHERE\n",
        "    b.memid <> 0\n",
        "GROUP BY\n",
        "    f.name,\n",
        "    strftime('%Y-%m', b.starttime)\n",
        "ORDER BY\n",
        "    f.name,\n",
        "    month;\n",
        "\"\"\"\n",
        "\n",
        "with LocalSQLConnection('sqlite_db_pythonsqlite.db') as db:\n",
        "    results = db.fetch_all(query)\n",
        "\n",
        "    # Prepare headers and compute column widths\n",
        "    headers = [\"Facility Name\", \"Month\", \"Total Usage\"]\n",
        "    rows = [(row[0], row[1], row[2]) for row in results]\n",
        "    all_rows = [headers] + rows\n",
        "    col_widths = [max(len(str(r[i])) for r in all_rows) for i in range(len(headers))]\n",
        "\n",
        "    def format_row(row):\n",
        "        return \"| \" + \" | \".join(f\"{str(val):<{col_widths[i]}}\" for i, val in enumerate(row)) + \" |\"\n",
        "\n",
        "    # Print Markdown-style table\n",
        "    print(format_row(headers))\n",
        "    print(\"|-\" + \"-|-\".join(\"-\" * w for w in col_widths) + \"-|\")\n",
        "    for row in rows:\n",
        "        print(format_row(row))\n"
      ],
      "metadata": {
        "colab": {
          "base_uri": "https://localhost:8080/"
        },
        "id": "uyZVhNzxbz2-",
        "outputId": "8a461306-4c3f-42c8-e2b7-7073e89ad29b"
      },
      "execution_count": 12,
      "outputs": [
        {
          "output_type": "stream",
          "name": "stdout",
          "text": [
            "| Facility Name   | Month   | Total Usage |\n",
            "|-----------------|---------|-------------|\n",
            "| Badminton Court | 2012-07 | 165         |\n",
            "| Badminton Court | 2012-08 | 414         |\n",
            "| Badminton Court | 2012-09 | 507         |\n",
            "| Massage Room 1  | 2012-07 | 166         |\n",
            "| Massage Room 1  | 2012-08 | 316         |\n",
            "| Massage Room 1  | 2012-09 | 402         |\n",
            "| Massage Room 2  | 2012-07 | 8           |\n",
            "| Massage Room 2  | 2012-08 | 18          |\n",
            "| Massage Room 2  | 2012-09 | 28          |\n",
            "| Pool Table      | 2012-07 | 110         |\n",
            "| Pool Table      | 2012-08 | 303         |\n",
            "| Pool Table      | 2012-09 | 443         |\n",
            "| Snooker Table   | 2012-07 | 140         |\n",
            "| Snooker Table   | 2012-08 | 316         |\n",
            "| Snooker Table   | 2012-09 | 404         |\n",
            "| Squash Court    | 2012-07 | 50          |\n",
            "| Squash Court    | 2012-08 | 184         |\n",
            "| Squash Court    | 2012-09 | 184         |\n",
            "| Table Tennis    | 2012-07 | 98          |\n",
            "| Table Tennis    | 2012-08 | 296         |\n",
            "| Table Tennis    | 2012-09 | 400         |\n",
            "| Tennis Court 1  | 2012-07 | 201         |\n",
            "| Tennis Court 1  | 2012-08 | 339         |\n",
            "| Tennis Court 1  | 2012-09 | 417         |\n",
            "| Tennis Court 2  | 2012-07 | 123         |\n",
            "| Tennis Court 2  | 2012-08 | 345         |\n",
            "| Tennis Court 2  | 2012-09 | 414         |\n"
          ]
        }
      ]
    },
    {
      "cell_type": "markdown",
      "source": [
        "***NOTE: The code used to complete this assignment was generated through the assistance of ChatGPT.\\***"
      ],
      "metadata": {
        "id": "ipfR125PcoAb"
      }
    }
  ]
}