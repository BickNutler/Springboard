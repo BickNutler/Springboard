{
  "cells": [
    {
      "cell_type": "markdown",
      "source": [
        "**NOTE: This project was completed with the assistance of Google Colab's built in Gemini AI.**\n"
      ],
      "metadata": {
        "id": "_hh5zPZUtvWO"
      }
    },
    {
      "cell_type": "markdown",
      "metadata": {
        "id": "3TceqVGVq1CH"
      },
      "source": [
        "# Frequentist Inference Case Study - Part B"
      ]
    },
    {
      "cell_type": "markdown",
      "metadata": {
        "id": "U8vP80khq1CJ"
      },
      "source": [
        "## Learning objectives"
      ]
    },
    {
      "cell_type": "markdown",
      "metadata": {
        "id": "2Q1BbyUMq1CJ"
      },
      "source": [
        "Welcome to Part B of the Frequentist inference case study! The purpose of this case study is to help you apply the concepts associated with Frequentist inference in Python. In particular, you'll practice writing Python code to apply the following statistical concepts:\n",
        "* the _z_-statistic\n",
        "* the _t_-statistic\n",
        "* the difference and relationship between the two\n",
        "* the Central Limit Theorem, including its assumptions and consequences\n",
        "* how to estimate the population mean and standard deviation from a sample\n",
        "* the concept of a sampling distribution of a test statistic, particularly for the mean\n",
        "* how to combine these concepts to calculate a confidence interval"
      ]
    },
    {
      "cell_type": "markdown",
      "metadata": {
        "id": "0mxlOCwdq1CJ"
      },
      "source": [
        "In the previous notebook, we used only data from a known normal distribution. **You'll now tackle real data, rather than simulated data, and answer some relevant real-world business problems using the data.**"
      ]
    },
    {
      "cell_type": "markdown",
      "metadata": {
        "id": "hMIpNbseq1CJ"
      },
      "source": [
        "## Hospital medical charges"
      ]
    },
    {
      "cell_type": "markdown",
      "metadata": {
        "id": "gX4Ok90Kq1CJ"
      },
      "source": [
        "Imagine that a hospital has hired you as their data scientist. An administrator is working on the hospital's business operations plan and needs you to help them answer some business questions.\n",
        "\n",
        "In this assignment notebook, you're going to use frequentist statistical inference on a data sample to answer the questions:\n",
        "* has the hospital's revenue stream fallen below a key threshold?\n",
        "* are patients with insurance really charged different amounts than those without?\n",
        "\n",
        "Answering that last question with a frequentist approach makes some assumptions, and requires some knowledge, about the two groups."
      ]
    },
    {
      "cell_type": "markdown",
      "metadata": {
        "id": "7cVgFjO7q1CK"
      },
      "source": [
        "We are going to use some data on medical charges obtained from [Kaggle](https://www.kaggle.com/easonlai/sample-insurance-claim-prediction-dataset).\n",
        "\n",
        "For the purposes of this exercise, assume the observations are the result of random sampling from our single hospital. Recall that in the previous assignment, we introduced the Central Limit Theorem (CLT), and its consequence that the distributions of sample statistics approach a normal distribution as $n$ increases. The amazing thing about this is that it applies to the sampling distributions of statistics that have been calculated from even highly non-normal distributions of data! Recall, also, that hypothesis testing is very much based on making inferences about such sample statistics. You're going to rely heavily on the CLT to apply frequentist (parametric) tests to answer the questions in this notebook."
      ]
    },
    {
      "cell_type": "code",
      "execution_count": null,
      "metadata": {
        "id": "uvNoweb-q1CK"
      },
      "outputs": [],
      "source": [
        "import pandas as pd\n",
        "import numpy as np\n",
        "import matplotlib.pyplot as plt\n",
        "from scipy.stats import t\n",
        "from numpy.random import seed\n",
        "medical = pd.read_csv('/content/insurance2.csv')"
      ]
    },
    {
      "cell_type": "code",
      "execution_count": null,
      "metadata": {
        "colab": {
          "base_uri": "https://localhost:8080/"
        },
        "id": "cFY1GX2Mq1CK",
        "outputId": "e64b9076-bf6d-4e67-a13d-1de247d2710f"
      },
      "outputs": [
        {
          "output_type": "execute_result",
          "data": {
            "text/plain": [
              "(1338, 8)"
            ]
          },
          "metadata": {},
          "execution_count": 4
        }
      ],
      "source": [
        "medical.shape"
      ]
    },
    {
      "cell_type": "code",
      "execution_count": null,
      "metadata": {
        "colab": {
          "base_uri": "https://localhost:8080/",
          "height": 206
        },
        "id": "IL5MJ1-Kq1CL",
        "outputId": "3ab6e5b1-a71b-4f97-ee74-888b2016e1d9"
      },
      "outputs": [
        {
          "output_type": "execute_result",
          "data": {
            "text/plain": [
              "   age  sex     bmi  children  smoker  region      charges  insuranceclaim\n",
              "0   19    0  27.900         0       1       3  16884.92400               1\n",
              "1   18    1  33.770         1       0       2   1725.55230               1\n",
              "2   28    1  33.000         3       0       2   4449.46200               0\n",
              "3   33    1  22.705         0       0       1  21984.47061               0\n",
              "4   32    1  28.880         0       0       1   3866.85520               1"
            ],
            "text/html": [
              "\n",
              "  <div id=\"df-8c74f8a0-66ea-4e69-b90a-299d5f0bbe60\" class=\"colab-df-container\">\n",
              "    <div>\n",
              "<style scoped>\n",
              "    .dataframe tbody tr th:only-of-type {\n",
              "        vertical-align: middle;\n",
              "    }\n",
              "\n",
              "    .dataframe tbody tr th {\n",
              "        vertical-align: top;\n",
              "    }\n",
              "\n",
              "    .dataframe thead th {\n",
              "        text-align: right;\n",
              "    }\n",
              "</style>\n",
              "<table border=\"1\" class=\"dataframe\">\n",
              "  <thead>\n",
              "    <tr style=\"text-align: right;\">\n",
              "      <th></th>\n",
              "      <th>age</th>\n",
              "      <th>sex</th>\n",
              "      <th>bmi</th>\n",
              "      <th>children</th>\n",
              "      <th>smoker</th>\n",
              "      <th>region</th>\n",
              "      <th>charges</th>\n",
              "      <th>insuranceclaim</th>\n",
              "    </tr>\n",
              "  </thead>\n",
              "  <tbody>\n",
              "    <tr>\n",
              "      <th>0</th>\n",
              "      <td>19</td>\n",
              "      <td>0</td>\n",
              "      <td>27.900</td>\n",
              "      <td>0</td>\n",
              "      <td>1</td>\n",
              "      <td>3</td>\n",
              "      <td>16884.92400</td>\n",
              "      <td>1</td>\n",
              "    </tr>\n",
              "    <tr>\n",
              "      <th>1</th>\n",
              "      <td>18</td>\n",
              "      <td>1</td>\n",
              "      <td>33.770</td>\n",
              "      <td>1</td>\n",
              "      <td>0</td>\n",
              "      <td>2</td>\n",
              "      <td>1725.55230</td>\n",
              "      <td>1</td>\n",
              "    </tr>\n",
              "    <tr>\n",
              "      <th>2</th>\n",
              "      <td>28</td>\n",
              "      <td>1</td>\n",
              "      <td>33.000</td>\n",
              "      <td>3</td>\n",
              "      <td>0</td>\n",
              "      <td>2</td>\n",
              "      <td>4449.46200</td>\n",
              "      <td>0</td>\n",
              "    </tr>\n",
              "    <tr>\n",
              "      <th>3</th>\n",
              "      <td>33</td>\n",
              "      <td>1</td>\n",
              "      <td>22.705</td>\n",
              "      <td>0</td>\n",
              "      <td>0</td>\n",
              "      <td>1</td>\n",
              "      <td>21984.47061</td>\n",
              "      <td>0</td>\n",
              "    </tr>\n",
              "    <tr>\n",
              "      <th>4</th>\n",
              "      <td>32</td>\n",
              "      <td>1</td>\n",
              "      <td>28.880</td>\n",
              "      <td>0</td>\n",
              "      <td>0</td>\n",
              "      <td>1</td>\n",
              "      <td>3866.85520</td>\n",
              "      <td>1</td>\n",
              "    </tr>\n",
              "  </tbody>\n",
              "</table>\n",
              "</div>\n",
              "    <div class=\"colab-df-buttons\">\n",
              "\n",
              "  <div class=\"colab-df-container\">\n",
              "    <button class=\"colab-df-convert\" onclick=\"convertToInteractive('df-8c74f8a0-66ea-4e69-b90a-299d5f0bbe60')\"\n",
              "            title=\"Convert this dataframe to an interactive table.\"\n",
              "            style=\"display:none;\">\n",
              "\n",
              "  <svg xmlns=\"http://www.w3.org/2000/svg\" height=\"24px\" viewBox=\"0 -960 960 960\">\n",
              "    <path d=\"M120-120v-720h720v720H120Zm60-500h600v-160H180v160Zm220 220h160v-160H400v160Zm0 220h160v-160H400v160ZM180-400h160v-160H180v160Zm440 0h160v-160H620v160ZM180-180h160v-160H180v160Zm440 0h160v-160H620v160Z\"/>\n",
              "  </svg>\n",
              "    </button>\n",
              "\n",
              "  <style>\n",
              "    .colab-df-container {\n",
              "      display:flex;\n",
              "      gap: 12px;\n",
              "    }\n",
              "\n",
              "    .colab-df-convert {\n",
              "      background-color: #E8F0FE;\n",
              "      border: none;\n",
              "      border-radius: 50%;\n",
              "      cursor: pointer;\n",
              "      display: none;\n",
              "      fill: #1967D2;\n",
              "      height: 32px;\n",
              "      padding: 0 0 0 0;\n",
              "      width: 32px;\n",
              "    }\n",
              "\n",
              "    .colab-df-convert:hover {\n",
              "      background-color: #E2EBFA;\n",
              "      box-shadow: 0px 1px 2px rgba(60, 64, 67, 0.3), 0px 1px 3px 1px rgba(60, 64, 67, 0.15);\n",
              "      fill: #174EA6;\n",
              "    }\n",
              "\n",
              "    .colab-df-buttons div {\n",
              "      margin-bottom: 4px;\n",
              "    }\n",
              "\n",
              "    [theme=dark] .colab-df-convert {\n",
              "      background-color: #3B4455;\n",
              "      fill: #D2E3FC;\n",
              "    }\n",
              "\n",
              "    [theme=dark] .colab-df-convert:hover {\n",
              "      background-color: #434B5C;\n",
              "      box-shadow: 0px 1px 3px 1px rgba(0, 0, 0, 0.15);\n",
              "      filter: drop-shadow(0px 1px 2px rgba(0, 0, 0, 0.3));\n",
              "      fill: #FFFFFF;\n",
              "    }\n",
              "  </style>\n",
              "\n",
              "    <script>\n",
              "      const buttonEl =\n",
              "        document.querySelector('#df-8c74f8a0-66ea-4e69-b90a-299d5f0bbe60 button.colab-df-convert');\n",
              "      buttonEl.style.display =\n",
              "        google.colab.kernel.accessAllowed ? 'block' : 'none';\n",
              "\n",
              "      async function convertToInteractive(key) {\n",
              "        const element = document.querySelector('#df-8c74f8a0-66ea-4e69-b90a-299d5f0bbe60');\n",
              "        const dataTable =\n",
              "          await google.colab.kernel.invokeFunction('convertToInteractive',\n",
              "                                                    [key], {});\n",
              "        if (!dataTable) return;\n",
              "\n",
              "        const docLinkHtml = 'Like what you see? Visit the ' +\n",
              "          '<a target=\"_blank\" href=https://colab.research.google.com/notebooks/data_table.ipynb>data table notebook</a>'\n",
              "          + ' to learn more about interactive tables.';\n",
              "        element.innerHTML = '';\n",
              "        dataTable['output_type'] = 'display_data';\n",
              "        await google.colab.output.renderOutput(dataTable, element);\n",
              "        const docLink = document.createElement('div');\n",
              "        docLink.innerHTML = docLinkHtml;\n",
              "        element.appendChild(docLink);\n",
              "      }\n",
              "    </script>\n",
              "  </div>\n",
              "\n",
              "\n",
              "    <div id=\"df-077088b4-f5a5-4005-9516-bd7b79782f7a\">\n",
              "      <button class=\"colab-df-quickchart\" onclick=\"quickchart('df-077088b4-f5a5-4005-9516-bd7b79782f7a')\"\n",
              "                title=\"Suggest charts\"\n",
              "                style=\"display:none;\">\n",
              "\n",
              "<svg xmlns=\"http://www.w3.org/2000/svg\" height=\"24px\"viewBox=\"0 0 24 24\"\n",
              "     width=\"24px\">\n",
              "    <g>\n",
              "        <path d=\"M19 3H5c-1.1 0-2 .9-2 2v14c0 1.1.9 2 2 2h14c1.1 0 2-.9 2-2V5c0-1.1-.9-2-2-2zM9 17H7v-7h2v7zm4 0h-2V7h2v10zm4 0h-2v-4h2v4z\"/>\n",
              "    </g>\n",
              "</svg>\n",
              "      </button>\n",
              "\n",
              "<style>\n",
              "  .colab-df-quickchart {\n",
              "      --bg-color: #E8F0FE;\n",
              "      --fill-color: #1967D2;\n",
              "      --hover-bg-color: #E2EBFA;\n",
              "      --hover-fill-color: #174EA6;\n",
              "      --disabled-fill-color: #AAA;\n",
              "      --disabled-bg-color: #DDD;\n",
              "  }\n",
              "\n",
              "  [theme=dark] .colab-df-quickchart {\n",
              "      --bg-color: #3B4455;\n",
              "      --fill-color: #D2E3FC;\n",
              "      --hover-bg-color: #434B5C;\n",
              "      --hover-fill-color: #FFFFFF;\n",
              "      --disabled-bg-color: #3B4455;\n",
              "      --disabled-fill-color: #666;\n",
              "  }\n",
              "\n",
              "  .colab-df-quickchart {\n",
              "    background-color: var(--bg-color);\n",
              "    border: none;\n",
              "    border-radius: 50%;\n",
              "    cursor: pointer;\n",
              "    display: none;\n",
              "    fill: var(--fill-color);\n",
              "    height: 32px;\n",
              "    padding: 0;\n",
              "    width: 32px;\n",
              "  }\n",
              "\n",
              "  .colab-df-quickchart:hover {\n",
              "    background-color: var(--hover-bg-color);\n",
              "    box-shadow: 0 1px 2px rgba(60, 64, 67, 0.3), 0 1px 3px 1px rgba(60, 64, 67, 0.15);\n",
              "    fill: var(--button-hover-fill-color);\n",
              "  }\n",
              "\n",
              "  .colab-df-quickchart-complete:disabled,\n",
              "  .colab-df-quickchart-complete:disabled:hover {\n",
              "    background-color: var(--disabled-bg-color);\n",
              "    fill: var(--disabled-fill-color);\n",
              "    box-shadow: none;\n",
              "  }\n",
              "\n",
              "  .colab-df-spinner {\n",
              "    border: 2px solid var(--fill-color);\n",
              "    border-color: transparent;\n",
              "    border-bottom-color: var(--fill-color);\n",
              "    animation:\n",
              "      spin 1s steps(1) infinite;\n",
              "  }\n",
              "\n",
              "  @keyframes spin {\n",
              "    0% {\n",
              "      border-color: transparent;\n",
              "      border-bottom-color: var(--fill-color);\n",
              "      border-left-color: var(--fill-color);\n",
              "    }\n",
              "    20% {\n",
              "      border-color: transparent;\n",
              "      border-left-color: var(--fill-color);\n",
              "      border-top-color: var(--fill-color);\n",
              "    }\n",
              "    30% {\n",
              "      border-color: transparent;\n",
              "      border-left-color: var(--fill-color);\n",
              "      border-top-color: var(--fill-color);\n",
              "      border-right-color: var(--fill-color);\n",
              "    }\n",
              "    40% {\n",
              "      border-color: transparent;\n",
              "      border-right-color: var(--fill-color);\n",
              "      border-top-color: var(--fill-color);\n",
              "    }\n",
              "    60% {\n",
              "      border-color: transparent;\n",
              "      border-right-color: var(--fill-color);\n",
              "    }\n",
              "    80% {\n",
              "      border-color: transparent;\n",
              "      border-right-color: var(--fill-color);\n",
              "      border-bottom-color: var(--fill-color);\n",
              "    }\n",
              "    90% {\n",
              "      border-color: transparent;\n",
              "      border-bottom-color: var(--fill-color);\n",
              "    }\n",
              "  }\n",
              "</style>\n",
              "\n",
              "      <script>\n",
              "        async function quickchart(key) {\n",
              "          const quickchartButtonEl =\n",
              "            document.querySelector('#' + key + ' button');\n",
              "          quickchartButtonEl.disabled = true;  // To prevent multiple clicks.\n",
              "          quickchartButtonEl.classList.add('colab-df-spinner');\n",
              "          try {\n",
              "            const charts = await google.colab.kernel.invokeFunction(\n",
              "                'suggestCharts', [key], {});\n",
              "          } catch (error) {\n",
              "            console.error('Error during call to suggestCharts:', error);\n",
              "          }\n",
              "          quickchartButtonEl.classList.remove('colab-df-spinner');\n",
              "          quickchartButtonEl.classList.add('colab-df-quickchart-complete');\n",
              "        }\n",
              "        (() => {\n",
              "          let quickchartButtonEl =\n",
              "            document.querySelector('#df-077088b4-f5a5-4005-9516-bd7b79782f7a button');\n",
              "          quickchartButtonEl.style.display =\n",
              "            google.colab.kernel.accessAllowed ? 'block' : 'none';\n",
              "        })();\n",
              "      </script>\n",
              "    </div>\n",
              "\n",
              "    </div>\n",
              "  </div>\n"
            ],
            "application/vnd.google.colaboratory.intrinsic+json": {
              "type": "dataframe",
              "summary": "{\n  \"name\": \"#insuranceclaim: yes=1, no=0\",\n  \"rows\": 5,\n  \"fields\": [\n    {\n      \"column\": \"age\",\n      \"properties\": {\n        \"dtype\": \"number\",\n        \"std\": 7,\n        \"min\": 18,\n        \"max\": 33,\n        \"num_unique_values\": 5,\n        \"samples\": [\n          18,\n          32,\n          28\n        ],\n        \"semantic_type\": \"\",\n        \"description\": \"\"\n      }\n    },\n    {\n      \"column\": \"sex\",\n      \"properties\": {\n        \"dtype\": \"number\",\n        \"std\": 0,\n        \"min\": 0,\n        \"max\": 1,\n        \"num_unique_values\": 2,\n        \"samples\": [\n          1,\n          0\n        ],\n        \"semantic_type\": \"\",\n        \"description\": \"\"\n      }\n    },\n    {\n      \"column\": \"bmi\",\n      \"properties\": {\n        \"dtype\": \"number\",\n        \"std\": 4.4522275323707365,\n        \"min\": 22.705,\n        \"max\": 33.77,\n        \"num_unique_values\": 5,\n        \"samples\": [\n          33.77,\n          28.88\n        ],\n        \"semantic_type\": \"\",\n        \"description\": \"\"\n      }\n    },\n    {\n      \"column\": \"children\",\n      \"properties\": {\n        \"dtype\": \"number\",\n        \"std\": 1,\n        \"min\": 0,\n        \"max\": 3,\n        \"num_unique_values\": 3,\n        \"samples\": [\n          0,\n          1\n        ],\n        \"semantic_type\": \"\",\n        \"description\": \"\"\n      }\n    },\n    {\n      \"column\": \"smoker\",\n      \"properties\": {\n        \"dtype\": \"number\",\n        \"std\": 0,\n        \"min\": 0,\n        \"max\": 1,\n        \"num_unique_values\": 2,\n        \"samples\": [\n          0,\n          1\n        ],\n        \"semantic_type\": \"\",\n        \"description\": \"\"\n      }\n    },\n    {\n      \"column\": \"region\",\n      \"properties\": {\n        \"dtype\": \"number\",\n        \"std\": 0,\n        \"min\": 1,\n        \"max\": 3,\n        \"num_unique_values\": 3,\n        \"samples\": [\n          3,\n          2\n        ],\n        \"semantic_type\": \"\",\n        \"description\": \"\"\n      }\n    },\n    {\n      \"column\": \"charges\",\n      \"properties\": {\n        \"dtype\": \"number\",\n        \"std\": 9051.009157648406,\n        \"min\": 1725.5523,\n        \"max\": 21984.47061,\n        \"num_unique_values\": 5,\n        \"samples\": [\n          1725.5523,\n          3866.8552\n        ],\n        \"semantic_type\": \"\",\n        \"description\": \"\"\n      }\n    },\n    {\n      \"column\": \"insuranceclaim\",\n      \"properties\": {\n        \"dtype\": \"number\",\n        \"std\": 0,\n        \"min\": 0,\n        \"max\": 1,\n        \"num_unique_values\": 2,\n        \"samples\": [\n          0,\n          1\n        ],\n        \"semantic_type\": \"\",\n        \"description\": \"\"\n      }\n    }\n  ]\n}"
            }
          },
          "metadata": {},
          "execution_count": 5
        }
      ],
      "source": [
        "medical.head()\n",
        "#From Kaggle,\n",
        "#This is \"Sample Insurance Claim Prediction Dataset\" which based on \"[Medical Cost Personal Datasets][1]\" to update sample value on top.\n",
        "\n",
        "#age : age of policyholder\n",
        "#sex: gender of policy holder (female=0, male=1)\n",
        "#bmi: Body mass index, providing an understanding of body, weights that are relatively high or low relative to height, objective index of body weight (kg / m ^ 2) using the ratio of height to weight, ideally 18.5 to 25\n",
        "#steps: average walking steps per day of policyholder\n",
        "#children: number of children / dependents of policyholder\n",
        "#smoker: smoking state of policyholder (non-smoke=0;smoker=1)\n",
        "#region: the residential area of policyholder in the US (northeast=0, northwest=1, southeast=2, southwest=3)\n",
        "#charges: individual medical costs billed by health insurance\n",
        "#insuranceclaim: yes=1, no=0"
      ]
    },
    {
      "cell_type": "markdown",
      "metadata": {
        "id": "BuC1ozIpq1CL"
      },
      "source": [
        "__Q1:__ Plot the histogram of charges and calculate the mean and standard deviation. Comment on the appropriateness of these statistics for the data."
      ]
    },
    {
      "cell_type": "markdown",
      "metadata": {
        "id": "1f192ac8"
      },
      "source": [
        "**A:** The histogram of charges is heavily right-skewed, with a long tail extending towards higher charges. This indicates that the majority of medical charges are relatively low, while a smaller number of charges are significantly higher. The mean charge is approximately 13270.42, and the standard deviation is approximately 12105.48.\n",
        "\n",
        "Given the skewness of the data, the mean might be pulled towards the higher values and may not be the best representation of a typical charge. The large standard deviation also reflects the wide spread of the data due to the high charges. While the mean and standard deviation provide some information about the central tendency and variability, it's important to consider the skewed nature of the distribution when interpreting these statistics. Other statistics like the median might be more appropriate for describing the central tendency of this dataset."
      ]
    },
    {
      "cell_type": "code",
      "execution_count": null,
      "metadata": {
        "colab": {
          "base_uri": "https://localhost:8080/",
          "height": 507
        },
        "id": "00edd30Zq1CL",
        "outputId": "a6cd85e7-0be9-4c65-a7e4-4f66c90c2afd"
      },
      "outputs": [
        {
          "output_type": "display_data",
          "data": {
            "text/plain": [
              "<Figure size 640x480 with 1 Axes>"
            ],
            "image/png": "[encoded data removed]"
          },
          "metadata": {}
        },
        {
          "output_type": "stream",
          "name": "stdout",
          "text": [
            "Mean of charges: 13270.42\n",
            "Standard deviation of charges: 12105.48\n"
          ]
        }
      ],
      "source": [
        "plt.hist(medical['charges'])\n",
        "plt.xlabel('Charges')\n",
        "plt.ylabel('Frequency')\n",
        "plt.title('Histogram of Charges')\n",
        "plt.show()\n",
        "\n",
        "mean_charges = np.mean(medical['charges'])\n",
        "std_charges = np.std(medical['charges'])\n",
        "\n",
        "print(f\"Mean of charges: {mean_charges:.2f}\")\n",
        "print(f\"Standard deviation of charges: {std_charges:.2f}\")"
      ]
    },
    {
      "cell_type": "markdown",
      "metadata": {
        "id": "58bg3zbfq1CL"
      },
      "source": [
        "__Q2:__ The administrator is concerned that the actual average charge has fallen below 12,000, threatening the hospital's operational model. On the assumption that these data represent a random sample of charges, how would you justify that these data allow you to answer that question? And what would be the most appropriate frequentist test, of the ones discussed so far, to apply?"
      ]
    },
    {
      "cell_type": "markdown",
      "metadata": {
        "id": "f3a644ed"
      },
      "source": [
        "**A:** Since we are assuming these data represent a random sample from the hospital's charges, we can apply the Central Limit Theorem (CLT). The CLT states that, even if the original data distribution is not normal (as we saw with the charges), the sampling distribution of the mean will approach a normal distribution as the sample size increases. With a sample size of 1338, which is sufficiently large, we can assume that the sampling distribution of the mean charge is approximately normal. This allows us to use frequentist statistical methods to make inferences about the population mean charge.\n",
        "\n",
        "To address the administrator's concern about the average charge falling below 12,000, the most appropriate frequentist test is a **one-sample t-test**. We use a t-test because the population standard deviation is unknown, and we are estimating it from the sample. A one-sample test is suitable as we are comparing the sample mean to a single hypothesized value (12,000)."
      ]
    },
    {
      "cell_type": "markdown",
      "metadata": {
        "id": "N5R13roNq1CL"
      },
      "source": [
        "__Q3:__ Given the nature of the administrator's concern, what is the appropriate confidence interval in this case? A ***one-sided*** or ***two-sided*** interval? (Refresh your understanding of this concept on p. 399 of the *AoS*). Calculate the critical value and the relevant 95% confidence interval for the mean, and comment on whether the administrator should be concerned."
      ]
    },
    {
      "cell_type": "markdown",
      "metadata": {
        "id": "ae7b6046"
      },
      "source": [
        "**A:** The administrator is specifically concerned that the actual average charge has **fallen below** a key threshold of 12,000. This means they are only interested in whether the true population mean charge is *less than* 12,000.\n",
        "\n",
        "A **one-sided confidence interval** is used when we are only interested in whether a population parameter is greater than or less than a certain value, but not if it's simply different. In this scenario, the concern is only about the mean being *too low*. Therefore, we construct a one-sided interval to determine if there is sufficient evidence to conclude that the true mean charge is above 12,000. If the lower bound of the confidence interval is above 12,000, we can be 95% confident that the true mean is not below 12,000. A two-sided interval would be used if the concern was simply whether the mean charge was *different* from 12,000 (either higher or lower).\n",
        "\n",
        "Since the lower bound of the 95% confidence interval is above 12,000, the administrator should not be concerned."
      ]
    },
    {
      "cell_type": "code",
      "execution_count": null,
      "metadata": {
        "colab": {
          "base_uri": "https://localhost:8080/"
        },
        "id": "BQJbbi44q1CL",
        "outputId": "5c21aabb-9fa3-42b7-d3fb-4b84ce56272d"
      },
      "outputs": [
        {
          "output_type": "stream",
          "name": "stdout",
          "text": [
            "Critical t-value for a one-sided 95% confidence interval: 1.65\n"
          ]
        }
      ],
      "source": [
        "# Calculate the standard error of the mean\n",
        "n = len(medical['charges'])\n",
        "std_err = std_charges / np.sqrt(n)\n",
        "\n",
        "# Degrees of freedom for a one-sample t-test\n",
        "df = n - 1\n",
        "\n",
        "# Calculate the critical t-value for a one-sided 95% confidence interval\n",
        "# We use ppf (percent point function) which is the inverse of the cdf\n",
        "# For a one-sided interval with alpha = 0.05, we look up the value for 1 - alpha = 0.95\n",
        "critical_value = t.ppf(0.95, df)\n",
        "\n",
        "print(f\"Critical t-value for a one-sided 95% confidence interval: {critical_value:.2f}\")"
      ]
    },
    {
      "cell_type": "code",
      "execution_count": null,
      "metadata": {
        "colab": {
          "base_uri": "https://localhost:8080/"
        },
        "id": "HPVRse08q1CL",
        "outputId": "6d75c792-cb93-4891-ae54-f31f4545af72"
      },
      "outputs": [
        {
          "output_type": "stream",
          "name": "stdout",
          "text": [
            "95% one-sided confidence interval for the mean charge: (12725.69, inf)\n",
            "The administrator should not be concerned, as the lower bound of the 95% confidence interval is above 12,000.\n"
          ]
        }
      ],
      "source": [
        "# Calculate the 95% one-sided confidence interval for the mean\n",
        "# Lower bound is mean - (critical_value * standard_error)\n",
        "# Upper bound is infinity (since it's a lower bound interval)\n",
        "lower_bound = mean_charges - (critical_value * std_err)\n",
        "\n",
        "print(f\"95% one-sided confidence interval for the mean charge: ({lower_bound:.2f}, inf)\")\n",
        "\n",
        "# Comment on whether the administrator should be concerned\n",
        "if lower_bound > 12000:\n",
        "    print(\"The administrator should not be concerned, as the lower bound of the 95% confidence interval is above 12,000.\")\n",
        "else:\n",
        "    print(\"The administrator should be concerned, as the lower bound of the 95% confidence interval is below 12,000.\")"
      ]
    },
    {
      "cell_type": "markdown",
      "metadata": {
        "id": "IXYDlROhq1CL"
      },
      "source": [
        "The administrator then wants to know whether people with insurance really are charged a different amount to those without.\n",
        "\n",
        "__Q4:__ State the null and alternative hypothesis here. Use the _t_-test for the difference between means, where the pooled standard deviation of the two groups is given by:\n",
        "\\begin{equation}\n",
        "s_p = \\sqrt{\\frac{(n_0 - 1)s^2_0 + (n_1 - 1)s^2_1}{n_0 + n_1 - 2}}\n",
        "\\end{equation}\n",
        "\n",
        "and the *t*-test statistic is then given by:\n",
        "\n",
        "\\begin{equation}\n",
        "t = \\frac{\\bar{x}_0 - \\bar{x}_1}{s_p \\sqrt{1/n_0 + 1/n_1}}.\n",
        "\\end{equation}\n",
        "\n",
        "(If you need some reminding of the general definition of ***t-statistic***, check out the definition on p. 404 of *AoS*).\n",
        "\n",
        "What assumption about the variances of the two groups are we making here?"
      ]
    },
    {
      "cell_type": "markdown",
      "metadata": {
        "id": "i93KKH9Yq1CM"
      },
      "source": [
        "__A:__\n",
        "\n",
        "Null Hypothesis ($H_0$): The mean charge for patients with insurance is equal to the mean charge for patients without insurance. ($\\mu_{insured} = \\mu_{uninsured}$)\n",
        "\n",
        "Alternative Hypothesis ($H_1$): The mean charge for patients with insurance is different from the mean charge for patients without insurance. ($\\mu_{insured} \\neq \\mu_{uninsured}$)\n",
        "\n",
        "The assumption we are making about the variances of the two groups when using the pooled standard deviation formula for the t-test is that the variances of the two groups are equal (homoscedasticity)."
      ]
    },
    {
      "cell_type": "code",
      "execution_count": null,
      "metadata": {
        "colab": {
          "base_uri": "https://localhost:8080/"
        },
        "id": "dDlOxSJjq1CM",
        "outputId": "0a3dbea3-6f0f-4aa3-e8cf-d21988030970"
      },
      "outputs": [
        {
          "output_type": "stream",
          "name": "stdout",
          "text": [
            "Insured patients: n=783, mean=16423.93, std=14036.96\n",
            "Uninsured patients: n=555, mean=8821.42, std=6440.70\n",
            "Pooled standard deviation: 11512.28\n",
            "Manually calculated t-statistic: 11.90\n",
            "Manually calculated p-value: 0.00000000\n"
          ]
        }
      ],
      "source": [
        "# Separate charges for insured and uninsured patients\n",
        "insured_charges = medical[medical['insuranceclaim'] == 1]['charges']\n",
        "uninsured_charges = medical[medical['insuranceclaim'] == 0]['charges']\n",
        "\n",
        "# Calculate sample sizes, means, and standard deviations for each group\n",
        "n_insured = len(insured_charges)\n",
        "n_uninsured = len(uninsured_charges)\n",
        "mean_insured = np.mean(insured_charges)\n",
        "mean_uninsured = np.mean(uninsured_charges)\n",
        "std_insured = np.std(insured_charges)\n",
        "std_uninsured = np.std(uninsured_charges)\n",
        "\n",
        "print(f\"Insured patients: n={n_insured}, mean={mean_insured:.2f}, std={std_insured:.2f}\")\n",
        "print(f\"Uninsured patients: n={n_uninsured}, mean={mean_uninsured:.2f}, std={std_uninsured:.2f}\")\n",
        "\n",
        "# Calculate the pooled standard deviation\n",
        "pooled_std = np.sqrt(((n_insured - 1) * std_insured**2 + (n_uninsured - 1) * std_uninsured**2) / (n_insured + n_uninsured - 2))\n",
        "\n",
        "print(f\"Pooled standard deviation: {pooled_std:.2f}\")\n",
        "\n",
        "# Calculate the t-statistic\n",
        "t_statistic = (mean_insured - mean_uninsured) / (pooled_std * np.sqrt(1/n_insured + 1/n_uninsured))\n",
        "\n",
        "print(f\"Manually calculated t-statistic: {t_statistic:.2f}\")\n",
        "\n",
        "# Calculate the p-value manually (two-sided test)\n",
        "# Degrees of freedom\n",
        "df_manual = n_insured + n_uninsured - 2\n",
        "# Get the probability from the t-distribution CDF\n",
        "p_value_manual = 2 * (1 - t.cdf(abs(t_statistic), df_manual))\n",
        "\n",
        "print(f\"Manually calculated p-value: {p_value_manual:.8f}\")"
      ]
    },
    {
      "cell_type": "markdown",
      "metadata": {
        "id": "itLuOZYTq1CM"
      },
      "source": [
        "__Q5:__ Perform this hypothesis test both manually, using the above formulae, and then using the appropriate function from [scipy.stats](https://docs.scipy.org/doc/scipy/reference/stats.html#statistical-tests) (hint, you're looking for a function to perform a _t_-test on two independent samples). For the manual approach, calculate the value of the test statistic and then its probability (the p-value). Verify you get the same results from both."
      ]
    },
    {
      "cell_type": "markdown",
      "metadata": {
        "id": "alT7sdTKq1CM"
      },
      "source": [
        "__A:__ t value is nearly the same for both approaches 11.9 ~= 11.89"
      ]
    },
    {
      "cell_type": "code",
      "execution_count": null,
      "metadata": {
        "colab": {
          "base_uri": "https://localhost:8080/"
        },
        "id": "-MavYC2Nq1CM",
        "outputId": "6168cebd-8dab-448f-db46-425744b1ba56"
      },
      "outputs": [
        {
          "output_type": "stream",
          "name": "stdout",
          "text": [
            "SciPy t-statistic: 11.89\n",
            "SciPy p-value: 0.00000000\n"
          ]
        }
      ],
      "source": [
        "from scipy.stats import ttest_ind\n",
        "\n",
        "# Perform independent t-test using scipy.stats\n",
        "# We assume equal variances (which is consistent with using pooled standard deviation)\n",
        "t_statistic_scipy, p_value_scipy = ttest_ind(insured_charges, uninsured_charges, equal_var=True)\n",
        "\n",
        "print(f\"SciPy t-statistic: {t_statistic_scipy:.2f}\")\n",
        "print(f\"SciPy p-value: {p_value_scipy:.8f}\")"
      ]
    },
    {
      "cell_type": "markdown",
      "metadata": {
        "id": "z9o3MaFSq1CM"
      },
      "source": [
        "Congratulations! Hopefully you got the exact same numerical results. This shows that you correctly calculated the numbers by hand. Secondly, you used the correct function and saw that it's much easier to use. All you need to do is pass your data to it."
      ]
    },
    {
      "cell_type": "markdown",
      "metadata": {
        "id": "fbkshcd0q1CM"
      },
      "source": [
        "__Q6:__ Conceptual question: look through the documentation for statistical test functions in scipy.stats. You'll see the above _t_-test for a sample, but can you see an equivalent one for performing a *z*-test from a sample? Comment on your answer."
      ]
    },
    {
      "cell_type": "markdown",
      "metadata": {
        "id": "16e14c5f"
      },
      "source": [
        "**A:** When looking through the documentation for statistical test functions in `scipy.stats`, you will find functions for t-tests (like `ttest_ind` for independent samples), but you will **not** find a direct equivalent function specifically for performing a *z*-test from a sample in the same way.\n",
        "\n",
        "This is because the *z*-test is typically used when the population standard deviation is known. In real-world scenarios, the population standard deviation is rarely known, and we usually have to estimate it from the sample. When we use the sample standard deviation as an estimate for the population standard deviation, the appropriate test statistic follows a *t*-distribution, especially for smaller sample sizes. As the sample size increases, the *t*-distribution approaches the standard normal (z) distribution, and the results of a t-test and z-test become very similar.\n",
        "\n",
        "Therefore, `scipy.stats` primarily provides t-tests for sample data, as these are more widely applicable when the population standard deviation is unknown. While you could technically perform a z-test if you somehow knew the population standard deviation, `scipy.stats` doesn't offer a dedicated function for this specific case from sample data, as it's not a common scenario in practice. You could, however, calculate the z-statistic manually using the known population standard deviation and then use functions from `scipy.stats.norm` (like `cdf` or `ppf`) to find the p-value."
      ]
    },
    {
      "cell_type": "markdown",
      "metadata": {
        "id": "81JQMe08q1CM"
      },
      "source": [
        "## Learning outcomes"
      ]
    },
    {
      "cell_type": "markdown",
      "metadata": {
        "id": "SRyEAlSYq1CM"
      },
      "source": [
        "Having completed this project notebook, you now have good hands-on experience:\n",
        "* using the central limit theorem to help you apply frequentist techniques to answer questions that pertain to very non-normally distributed data from the real world\n",
        "* performing inference using such data to answer business questions\n",
        "* forming a hypothesis and framing the null and alternative hypotheses\n",
        "* testing this using a _t_-test"
      ]
    },
    {
      "cell_type": "markdown",
      "source": [
        "**NOTE: This project was completed with the assistance of Google Colab's built in Gemini AI.**"
      ],
      "metadata": {
        "id": "ZVFwzf6JtoT7"
      }
    }
  ],
  "metadata": {
    "kernelspec": {
      "display_name": "Python 3",
      "language": "python",
      "name": "python3"
    },
    "language_info": {
      "codemirror_mode": {
        "name": "ipython",
        "version": 3
      },
      "file_extension": ".py",
      "mimetype": "text/x-python",
      "name": "python",
      "nbconvert_exporter": "python",
      "pygments_lexer": "ipython3",
      "version": "3.7.3"
    },
    "colab": {
      "provenance": []
    }
  },
  "nbformat": 4,
  "nbformat_minor": 0
}